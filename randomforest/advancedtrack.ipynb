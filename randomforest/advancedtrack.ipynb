{
 "cells": [
  {
   "cell_type": "markdown",
   "metadata": {},
   "source": [
    "Preprocess the Data"
   ]
  },
  {
   "cell_type": "code",
   "execution_count": 14,
   "metadata": {},
   "outputs": [],
   "source": [
    "# Import necessary libraries\n",
    "import pandas as pd\n",
    "import numpy as np\n",
    "import matplotlib.pyplot as plt\n",
    "import seaborn as sns\n",
    "from sklearn.preprocessing import LabelEncoder\n",
    "from sklearn.ensemble import RandomForestClassifier\n",
    "from sklearn.metrics import accuracy_score, classification_report\n",
    "from sklearn.model_selection import train_test_split, cross_val_score\n",
    "from sklearn.linear_model import LogisticRegression\n",
    "import pickle\n",
    "\n",
    "\n",
    "# Daten werden eingelesen\n",
    "crimes_dataset = pd.read_csv(r\"Crimes_Dataset.csv\")\n",
    "suspects_dataset = pd.read_csv(r\"Suspects_Dataset.csv\")\n",
    "\n",
    "#kleinbuchstaben\n",
    "crimes_dataset = crimes_dataset.applymap(lambda x: x.lower() if isinstance(x, str) else x)   # Alle Zeichenfolgen in den DataFrame in Kleinbuchstaben umwandeln\n",
    "crimes_dataset\n",
    "\n",
    "suspects_dataset = suspects_dataset.applymap(lambda x: x.lower() if isinstance(x, str) else x)    # Alle Zeichenfolgen in den DataFrame in Kleinbuchstaben umwandeln\n",
    "suspects_dataset\n",
    "\n",
    "merged_df = pd.merge(crimes_dataset, suspects_dataset, left_on=\"Index_Crimes\", right_on=\"Index_Monster\")\n",
    "merged_df\n",
    "\n",
    "merged_df.to_csv('merged_df.csv', index=False)"
   ]
  },
  {
   "cell_type": "code",
   "execution_count": 15,
   "metadata": {},
   "outputs": [
    {
     "name": "stdout",
     "output_type": "stream",
     "text": [
      "   Index_Crimes        Date Monster involved  Days of Investigation    Region  \\\n",
      "0          6316  2020-02-18         skeleton                   77.0  mountain   \n",
      "1          4731  2022-09-01         werewolf                   48.0    forest   \n",
      "2          1750  2022-08-03            ghost                   31.0    castle   \n",
      "3          4789  2023-10-18            witch                   29.0     swamp   \n",
      "4          4567  2021-03-25            ghost                   59.0   village   \n",
      "\n",
      "            Crime Type Crime Weapon Time of Day Evidence Found  Index_Monster  \\\n",
      "0  nightly disturbance          NaN       night          bones           6316   \n",
      "1              assault       pistol       night          teeth           4731   \n",
      "2  nightly disturbance          NaN       night        potions           1750   \n",
      "3                arson       pistol        dawn        potions           4789   \n",
      "4  nightly disturbance       pistol       night        potions           4567   \n",
      "\n",
      "    Monster Criminal record     Age Gender  Height in cm  Speed Level  \\\n",
      "0  skeleton             yes     1.0      f         152.0         26.0   \n",
      "1  werewolf              no    53.0      m         171.0         87.0   \n",
      "2     ghost              no  1634.0      m         185.0         59.0   \n",
      "3     witch              no   322.0      m         169.0         23.0   \n",
      "4     ghost              no   757.0      f         170.0         36.0   \n",
      "\n",
      "   Strength Level   Allergy Favorite Food  \n",
      "0             8.0    silver       lasagna  \n",
      "1             7.0    silver   pesto pasta  \n",
      "2             2.0  sunlight        humans  \n",
      "3             3.0   pumpkin       lasagna  \n",
      "4            10.0    garlic          rats  \n",
      "Accuracy for Random Forest: 0.87\n",
      "Accuracy for Logistic Regression: 0.50\n",
      "\n",
      "Best Model: Random Forest with Accuracy: 0.87\n",
      "\n",
      "Classification Report:\n",
      "              precision    recall  f1-score   support\n",
      "\n",
      "           0       0.88      0.95      0.91       337\n",
      "           1       0.88      0.88      0.88       321\n",
      "           2       0.87      0.82      0.84       330\n",
      "           3       0.86      0.79      0.82       354\n",
      "           4       0.91      0.90      0.91       320\n",
      "           5       0.82      0.88      0.85       336\n",
      "\n",
      "    accuracy                           0.87      1998\n",
      "   macro avg       0.87      0.87      0.87      1998\n",
      "weighted avg       0.87      0.87      0.87      1998\n",
      "\n"
     ]
    }
   ],
   "source": [
    "# Laden des Datensatzes\n",
    "file_path = \"merged_df.csv\"  # Pfad zu zusammengeführten Datei\n",
    "df = pd.read_csv(file_path)\n",
    "\n",
    "# Ersten Blick auf den Datensatz werfen\n",
    "print(df.head())\n",
    "\n",
    "# Datenvorbereitung\n",
    "# Umwandlung der Datums-Spalte in das richtige Format\n",
    "df['Date'] = pd.to_datetime(df['Date'])\n",
    "\n",
    "# Label Encoding für die Spalten mit kategorischen Daten\n",
    "label_cols = ['Crime Type', 'Region', 'Crime Weapon', 'Time of Day', 'Evidence Found', \"Criminal record\", \"Allergy\", \"Favorite Food\"]\n",
    "le = LabelEncoder()\n",
    "\n",
    "for col in label_cols:\n",
    "    df[col] = le.fit_transform(df[col].astype(str))\n",
    "\n",
    "# Entfernen von möglichen fehlenden Werten (falls vorhanden)\n",
    "df = df.dropna()\n",
    "\n",
    "# Features und Zielvariable definieren\n",
    "X = df[['Crime Type', 'Region', 'Crime Weapon', 'Time of Day', 'Evidence Found', \"Criminal record\", \"Allergy\", \"Favorite Food\"]]\n",
    "y = df['Monster involved']\n",
    "\n",
    "# Zielvariable in numerische Werte umwandeln\n",
    "y = le.fit_transform(y)\n",
    "\n",
    "\n",
    "# Daten in Trainings- und Testdaten aufteilen\n",
    "X_train, X_test, y_train, y_test = train_test_split(X, y, test_size=0.2, random_state=42)\n",
    "\n",
    "# Verschiedene Modelle trainieren und vergleichen\n",
    "models = {\n",
    "    \"Random Forest\": RandomForestClassifier(),\n",
    "    \"Logistic Regression\": LogisticRegression(max_iter=1000)\n",
    "}\n",
    "\n",
    "# Beste Modellbewertung\n",
    "best_model = None\n",
    "best_score = 0\n",
    "\n",
    "for model_name, model in models.items():\n",
    "    model.fit(X_train, y_train)\n",
    "    y_pred = model.predict(X_test)\n",
    "    accuracy = accuracy_score(y_test, y_pred)\n",
    "    print(f\"Accuracy for {model_name}: {accuracy:.2f}\")\n",
    "    if accuracy > best_score:\n",
    "        best_score = accuracy\n",
    "        best_model = model_name\n",
    "\n",
    "print(f\"\\nBest Model: {best_model} with Accuracy: {best_score:.2f}\")\n",
    "\n",
    "# Ausführlicher Bericht des besten Modells\n",
    "best_model_instance = models[best_model]\n",
    "y_pred_best = best_model_instance.predict(X_test)\n",
    "print(\"\\nClassification Report:\")\n",
    "print(classification_report(y_test, y_pred_best))"
   ]
  },
  {
   "cell_type": "code",
   "execution_count": 16,
   "metadata": {},
   "outputs": [],
   "source": [
    "#Modell abspeichern\n",
    "\n",
    "with open('random_forest_model.pkl', 'wb') as file:\n",
    "    pickle.dump(best_model_instance, file)\n",
    "\n"
   ]
  },
  {
   "cell_type": "code",
   "execution_count": 17,
   "metadata": {},
   "outputs": [],
   "source": [
    "# Laden des Modells\n",
    "with open('random_forest_model.pkl', 'rb') as file:\n",
    "    best_model_instance = pickle.load(file)"
   ]
  },
  {
   "cell_type": "code",
   "execution_count": 18,
   "metadata": {},
   "outputs": [
    {
     "data": {
      "text/plain": [
       "array([2])"
      ]
     },
     "execution_count": 18,
     "metadata": {},
     "output_type": "execute_result"
    }
   ],
   "source": [
    "new_data = pd.DataFrame({\n",
    "    'Crime Type': [\"kidnapping\"],  # Beispielwert (z.B. 1 für 'Vampire')      kidnapping \n",
    "              \n",
    "    'Region': [\"village\"],  # Beispielwert für 'castle'  village\n",
    "    'Crime Weapon': [\"knife\"],  # Beispielwert für 'axe'     knife\n",
    "    'Time of Day': [\"day\"],  # Beispielwert für 'night'          day\n",
    "    'Evidence Found': [\"bones\"] , # Beispielwert für 'blood'         bones \n",
    "    \"Criminal record\": [\"yes\"]  ,  #Beispielwert für criminal record        ja\n",
    "    \"Allergy\":[\"sunlight\"]    ,        #Beispielwert fpr allergie            sonne\n",
    "    \"Favorite Food\":[\"bones\"]            #Beispielwert für lieblingsessen  knochen\n",
    "    \n",
    "}) \n",
    "\n",
    "label_cols = ['Crime Type', 'Region', 'Crime Weapon', 'Time of Day', 'Evidence Found', \"Criminal record\", \"Allergy\", \"Favorite Food\"]\n",
    "le = LabelEncoder()\n",
    "\n",
    "for col in label_cols:\n",
    "    new_data[col] = le.fit_transform(new_data[col].astype(str))\n",
    "\n",
    "# Vorhersagen mit dem trainierten Modell\n",
    "new_prediction = best_model_instance.predict(new_data)\n",
    "\n",
    "\n",
    "# Rücktransformation der Vorhersage in den ursprünglichen Crime Type\n",
    "#predicted_crime_type = le.inverse_transform([1])\n",
    "\n",
    "# Ausgabe der tatsächlichen Vorhersage\n",
    "#print(\"Vorhergesagter Crime Type für die neuen Daten:\", predicted_crime_type)\n",
    " \n",
    "\n",
    "new_prediction "
   ]
  },
  {
   "cell_type": "code",
   "execution_count": 19,
   "metadata": {},
   "outputs": [
    {
     "name": "stdout",
     "output_type": "stream",
     "text": [
      "Mapping von Crime Type zu numerischen Werten:\n",
      "'ghost' is encoded as 0\n",
      "'skeleton' is encoded as 1\n",
      "'vampire' is encoded as 2\n",
      "'werewolf' is encoded as 3\n",
      "'witch' is encoded as 4\n",
      "'zombie' is encoded as 5\n"
     ]
    }
   ],
   "source": [
    "from sklearn.preprocessing import LabelEncoder\n",
    "\n",
    "# Angenommen, dies ist der ursprüngliche LabelEncoder für 'Crime Type'\n",
    "label_encoder = LabelEncoder()\n",
    "\n",
    "# Fitte den Encoder auf die Trainingsdaten (angenommen df['Crime Type'] ist der Trainingsdatensatz)\n",
    "label_encoder.fit(df['Monster involved'])\n",
    "\n",
    "# Zeige das Mapping von Klassen (Kategorien) zu numerischen Werten\n",
    "print(\"Mapping von Crime Type zu numerischen Werten:\")\n",
    "for index, class_name in enumerate(label_encoder.classes_):\n",
    "    print(f\"'{class_name}' is encoded as {index}\")"
   ]
  },
  {
   "cell_type": "markdown",
   "metadata": {},
   "source": [
    "Grid search oder random search / cross validation"
   ]
  }
 ],
 "metadata": {
  "kernelspec": {
   "display_name": "Python 3",
   "language": "python",
   "name": "python3"
  },
  "language_info": {
   "codemirror_mode": {
    "name": "ipython",
    "version": 3
   },
   "file_extension": ".py",
   "mimetype": "text/x-python",
   "name": "python",
   "nbconvert_exporter": "python",
   "pygments_lexer": "ipython3",
   "version": "3.10.11"
  }
 },
 "nbformat": 4,
 "nbformat_minor": 2
}
